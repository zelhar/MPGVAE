{
 "cells": [
  {
   "cell_type": "code",
   "execution_count": 1,
   "id": "fd5cc852-c758-4e68-b5b2-76ccf9cded80",
   "metadata": {},
   "outputs": [],
   "source": [
    "import argparse\n",
    "import os\n",
    "import time\n",
    "import matplotlib.pyplot as plt\n",
    "import numpy as np\n",
    "import torch\n",
    "import torch.utils.data\n",
    "import torchvision.utils as vutils\n",
    "import pandas as pd\n",
    "from math import pi, sin, cos, sqrt, log\n",
    "from toolz import partial, curry\n",
    "from torch import Tensor\n",
    "from torch import nn, optim, distributions\n",
    "from torchvision import datasets, transforms, models\n",
    "from torchvision.utils import save_image, make_grid\n",
    "from typing import Callable, Iterator, Union, Optional, TypeVar\n",
    "from typing import List, Set, Dict, Tuple\n",
    "from typing import Mapping, MutableMapping, Sequence, Iterable\n",
    "from typing import Union, Any, cast\n",
    "# my own sauce\n",
    "from my_torch_utils import denorm, normalize, mixedGaussianCircular\n",
    "from my_torch_utils import fclayer, init_weights\n",
    "from my_torch_utils import plot_images, save_reconstructs, save_random_reconstructs\n",
    "from my_torch_utils import fnorm, replicate, logNorm\n",
    "from my_torch_utils import scsimDataset\n",
    "import scsim.scsim as scsim"
   ]
  },
  {
   "cell_type": "code",
   "execution_count": 3,
   "id": "95d2a432-260b-4063-b0df-3cd91906254b",
   "metadata": {},
   "outputs": [
    {
     "name": "stdout",
     "output_type": "stream",
     "text": [
      "Simulating cells\n",
      "Simulating gene params\n",
      "Simulating program\n",
      "Simulating DE\n",
      "Simulating cell-gene means\n",
      "   - Getting mean for activity program carrying cells\n",
      "   - Getting mean for non activity program carrying cells\n",
      "   - Normalizing by cell libsize\n",
      "Adjusting means\n",
      "Simulating counts\n"
     ]
    }
   ],
   "source": [
    "### generate new simulated dataset\n",
    "simulator = scsim.scsim(ngenes=5000, nproggenes=300, ncells=10000,\n",
    "        ngroups=10, seed=42,libloc=7.64, libscale=0.78,\n",
    "        mean_rate=7.68, mean_shape=0.34, expoutprob=0.00286, expoutloc=6.15,\n",
    "        expoutscale=0.49, \n",
    "        )\n",
    "\n",
    "ngenes = 10**4\n",
    "ncells = 10**4\n",
    "K=10\n",
    "deprob = .025\n",
    "progdeloc = deloc = deval = 1\n",
    "descale = 1.0\n",
    "progcellfrac = .35\n",
    "deprob = .025\n",
    "doubletfrac = .0\n",
    "ndoublets=int(doubletfrac*ncells)\n",
    "nproggenes = 400\n",
    "nproggroups = int(K/3)\n",
    "proggroups = list(range(1, nproggroups+1))\n",
    "randseed = 42\n",
    "\n",
    "simulator = scsim.scsim(\n",
    "    ngenes=ngenes,\n",
    "    ncells=ncells,\n",
    "    ngroups=K,\n",
    "    libloc=7.64,\n",
    "    libscale=0.78,\n",
    "    mean_rate=7.68,\n",
    "    mean_shape=0.34,\n",
    "    expoutprob=0.00286,\n",
    "    expoutloc=6.15,\n",
    "    expoutscale=0.49,\n",
    "    diffexpprob=deprob,\n",
    "    diffexpdownprob=0.0,\n",
    "    diffexploc=deloc,\n",
    "    diffexpscale=descale,\n",
    "    bcv_dispersion=0.448,\n",
    "    bcv_dof=22.087,\n",
    "    ndoublets=ndoublets,\n",
    "    nproggenes=nproggenes,\n",
    "    progdownprob=0.0,\n",
    "    progdeloc=progdeloc,\n",
    "    progdescale=descale,\n",
    "    progcellfrac=progcellfrac,\n",
    "    proggoups=proggroups,\n",
    "    minprogusage=0.1,\n",
    "    maxprogusage=0.7,\n",
    "    seed=randseed,\n",
    "    \n",
    ")\n",
    "\n",
    "simulator.simulate()\n"
   ]
  },
  {
   "cell_type": "code",
   "execution_count": 4,
   "id": "10b08d3e-83cc-418d-b43b-fb93e0a36fb1",
   "metadata": {},
   "outputs": [],
   "source": [
    "scsim.save_df(simulator.cellparams, \"data/scrnasim/cellparams\")\n",
    "scsim.save_df(simulator.counts, \"data/scrnasim/counts\")\n",
    "scsim.save_df(simulator.geneparams, \"data/scrnasim/geneparams\")"
   ]
  },
  {
   "cell_type": "code",
   "execution_count": 7,
   "id": "8c1a2fbe-073d-468d-b95e-4d1520b1b7a7",
   "metadata": {},
   "outputs": [],
   "source": [
    "# prepare train/test sets\n",
    "device = \"cuda\" if torch.cuda.is_available() else \"cpu\"\n",
    "dataSet = scsimDataset(\"data/scrnasim/counts.npz\",\n",
    "        \"data/scrnasim/cellparams.npz\")\n",
    "trainD, testD = dataSet.__train_test_split__(8500)\n",
    "\n",
    "trainLoader = torch.utils.data.DataLoader(trainD, batch_size=128, shuffle=True)\n",
    "testLoader = torch.utils.data.DataLoader(testD, batch_size=128, shuffle=True)\n"
   ]
  },
  {
   "cell_type": "code",
   "execution_count": 8,
   "id": "bb7c8ec6-cf59-4ed1-b77b-3d3aa5051d7a",
   "metadata": {},
   "outputs": [],
   "source": [
    "# define the model\n",
    "class Classifier(nn.Module):\n",
    "    def __init__(self, nin=10**4, nh=10**3, nclasses=10):\n",
    "        super(Classifier, self).__init__()\n",
    "        self.nclasses = nclasses\n",
    "        self.nin = nin\n",
    "        self.main = nn.Sequential(\n",
    "                fclayer(nin=nin, nout=nh, batchnorm=True, dropout=0.2,\n",
    "                    activation=nn.LeakyReLU(),),\n",
    "                nn.Linear(nh, nclasses),\n",
    "                nn.LogSoftmax(dim=1),\n",
    "                )\n",
    "        return\n",
    "\n",
    "    def forward(self,x):\n",
    "        logp = self.main(x)\n",
    "        return logp\n"
   ]
  },
  {
   "cell_type": "code",
   "execution_count": 10,
   "id": "129dba12-bc4b-4726-8549-77450aa20fee",
   "metadata": {},
   "outputs": [],
   "source": [
    "criterion = nn.NLLLoss(reduction=\"mean\")\n",
    "model = Classifier().to(device)\n",
    "model.apply(init_weights)\n",
    "optimizer = optim.Adam(model.parameters())"
   ]
  },
  {
   "cell_type": "code",
   "execution_count": 11,
   "id": "5dae7ee7-c716-4b42-8278-f241be676cb5",
   "metadata": {},
   "outputs": [
    {
     "name": "stdout",
     "output_type": "stream",
     "text": [
      "loss:\n",
      " 2.54552960395813\n",
      "loss:\n",
      " 0.09729622304439545\n",
      "loss:\n",
      " 0.03515252470970154\n",
      "loss:\n",
      " 0.026659106835722923\n",
      "loss:\n",
      " 0.008766941726207733\n",
      "loss:\n",
      " 0.014332371763885021\n",
      "loss:\n",
      " 0.008803398348391056\n",
      "loss:\n",
      " 0.0030491738580167294\n",
      "loss:\n",
      " 0.00130040745716542\n",
      "loss:\n",
      " 0.007098771166056395\n",
      "loss:\n",
      " 0.02561776712536812\n",
      "loss:\n",
      " 0.0033673604484647512\n",
      "loss:\n",
      " 0.0013898734468966722\n",
      "loss:\n",
      " 0.0015989248640835285\n",
      "loss:\n",
      " 0.004438658244907856\n"
     ]
    }
   ],
   "source": [
    "for epoch in range(15):\n",
    "    for idx, (data, labels) in enumerate(trainLoader):\n",
    "        x = data.to(device)\n",
    "        target = (labels - 1).to(device)\n",
    "        model.train()\n",
    "        model.zero_grad()\n",
    "        logprob = model(x)\n",
    "        loss = criterion(logprob, target)\n",
    "        loss.backward()\n",
    "        optimizer.step()\n",
    "        if idx % 100 == 0:\n",
    "            print(\n",
    "                \"loss:\\n\",\n",
    "                loss.item(),\n",
    "                )\n"
   ]
  },
  {
   "cell_type": "code",
   "execution_count": 13,
   "id": "5aa2307e-e730-4fe8-9ecb-e170bc2de593",
   "metadata": {},
   "outputs": [
    {
     "name": "stdout",
     "output_type": "stream",
     "text": [
      "loss =  0.14314091205596924\n"
     ]
    }
   ],
   "source": [
    "# testing\n",
    "xs, ls = testLoader.__iter__().next()\n",
    "\n",
    "# convert the labels to 0-indexing\n",
    "ls -= 1\n",
    "\n",
    "model.to(\"cpu\")\n",
    "ys = model(xs)\n",
    "probs = ys.exp()\n",
    "print(\"loss = \", criterion(ys, ls).item())\n"
   ]
  },
  {
   "cell_type": "code",
   "execution_count": 16,
   "id": "a5a11cce-b07a-481c-8b80-786f04d944c2",
   "metadata": {},
   "outputs": [
    {
     "name": "stdout",
     "output_type": "stream",
     "text": [
      "prdicted classes: \n",
      " tensor([6, 6, 5, 3, 3, 2, 4, 8, 7, 1, 6, 8, 4, 5, 9, 4, 3, 7, 0, 7, 0, 2, 8, 2,\n",
      "        3, 1, 0, 8, 9, 3, 2, 7, 3, 3, 1, 2, 2, 6, 7, 0, 0, 2, 4, 7, 6, 6, 9, 3,\n",
      "        2, 8, 5, 7, 9, 3, 7, 3, 1, 7, 7, 8, 9, 5, 1, 3, 9, 9, 9, 5, 9, 7, 1, 5,\n",
      "        6, 9, 2, 3, 0, 4, 4, 5, 0, 0, 2, 2, 7, 6, 9, 7, 4, 0, 4, 4, 4, 1, 3, 2,\n",
      "        0, 0, 9, 0, 1, 9, 3, 5, 6, 7, 0, 8, 9, 3, 1, 7, 2, 4, 2, 5, 6, 9, 3, 2,\n",
      "        8, 3, 0, 5, 6, 7, 9, 2]) \n",
      "actual classes: \n",
      " tensor([6, 6, 5, 3, 3, 2, 4, 8, 7, 1, 6, 8, 4, 5, 9, 4, 3, 7, 0, 7, 0, 2, 8, 2,\n",
      "        3, 1, 0, 8, 9, 3, 2, 7, 3, 3, 1, 4, 2, 6, 7, 0, 0, 2, 4, 7, 6, 6, 9, 3,\n",
      "        2, 8, 5, 7, 9, 3, 7, 3, 1, 7, 7, 8, 9, 5, 1, 3, 9, 9, 9, 5, 9, 7, 1, 5,\n",
      "        6, 9, 2, 3, 2, 4, 4, 5, 0, 0, 2, 2, 7, 6, 9, 7, 4, 0, 4, 4, 4, 1, 3, 2,\n",
      "        0, 0, 9, 0, 1, 9, 3, 5, 4, 7, 0, 8, 9, 3, 1, 7, 2, 4, 2, 5, 6, 9, 3, 1,\n",
      "        8, 3, 5, 5, 1, 7, 9, 2])\n"
     ]
    }
   ],
   "source": [
    "predicts = probs.argmax(axis=1)\n",
    "print(\"prdicted classes: \\n\", \n",
    "      predicts,\n",
    "      \"\\nactual classes: \\n\",\n",
    "      ls,\n",
    "     )"
   ]
  },
  {
   "cell_type": "code",
   "execution_count": 18,
   "id": "55f4e9f8-8a3e-45d7-b8fb-bcf641a23a86",
   "metadata": {},
   "outputs": [
    {
     "data": {
      "text/plain": [
       "tensor([ True,  True,  True,  True,  True,  True,  True,  True,  True,  True,\n",
       "         True,  True,  True,  True,  True,  True,  True,  True,  True,  True,\n",
       "         True,  True,  True,  True,  True,  True,  True,  True,  True,  True,\n",
       "         True,  True,  True,  True,  True, False,  True,  True,  True,  True,\n",
       "         True,  True,  True,  True,  True,  True,  True,  True,  True,  True,\n",
       "         True,  True,  True,  True,  True,  True,  True,  True,  True,  True,\n",
       "         True,  True,  True,  True,  True,  True,  True,  True,  True,  True,\n",
       "         True,  True,  True,  True,  True,  True, False,  True,  True,  True,\n",
       "         True,  True,  True,  True,  True,  True,  True,  True,  True,  True,\n",
       "         True,  True,  True,  True,  True,  True,  True,  True,  True,  True,\n",
       "         True,  True,  True,  True, False,  True,  True,  True,  True,  True,\n",
       "         True,  True,  True,  True,  True,  True,  True,  True,  True, False,\n",
       "         True,  True, False,  True, False,  True,  True,  True])"
      ]
     },
     "execution_count": 18,
     "metadata": {},
     "output_type": "execute_result"
    }
   ],
   "source": [
    "(predicts == ls)"
   ]
  },
  {
   "cell_type": "code",
   "execution_count": 20,
   "id": "68fba09e-ca10-43bd-a968-b96053490b40",
   "metadata": {},
   "outputs": [
    {
     "data": {
      "text/plain": [
       "tensor(0.9531)"
      ]
     },
     "execution_count": 20,
     "metadata": {},
     "output_type": "execute_result"
    }
   ],
   "source": [
    "accuracy = (predicts == ls).sum() / len(ls)\n",
    "accuracy\n"
   ]
  },
  {
   "cell_type": "code",
   "execution_count": null,
   "id": "cc65eb41-7c70-40ae-8f80-5e093f08ee2a",
   "metadata": {},
   "outputs": [],
   "source": []
  }
 ],
 "metadata": {
  "kernelspec": {
   "display_name": "Python 3 (ipykernel)",
   "language": "python",
   "name": "python3"
  },
  "language_info": {
   "codemirror_mode": {
    "name": "ipython",
    "version": 3
   },
   "file_extension": ".py",
   "mimetype": "text/x-python",
   "name": "python",
   "nbconvert_exporter": "python",
   "pygments_lexer": "ipython3",
   "version": "3.9.9"
  }
 },
 "nbformat": 4,
 "nbformat_minor": 5
}
